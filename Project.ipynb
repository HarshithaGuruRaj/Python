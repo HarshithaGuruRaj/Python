{
 "cells": [
  {
   "cell_type": "code",
   "execution_count": 1,
   "id": "707285cf-5eac-4132-87bf-c9d52b5fcc0c",
   "metadata": {},
   "outputs": [
    {
     "name": "stdout",
     "output_type": "stream",
     "text": [
      "Requirement already satisfied: Pillow in /opt/anaconda3/lib/python3.11/site-packages (10.2.0)\n",
      "Note: you may need to restart the kernel to use updated packages.\n"
     ]
    }
   ],
   "source": [
    "pip install Pillow"
   ]
  },
  {
   "cell_type": "code",
   "execution_count": 37,
   "id": "3f9c55f6-98a6-49e7-adf1-6fe3ce96e842",
   "metadata": {},
   "outputs": [
    {
     "name": "stdout",
     "output_type": "stream",
     "text": [
      "The most frequent color is: (255, 255, 255) appearing 52 times\n"
     ]
    }
   ],
   "source": [
    "from PIL import Image\n",
    "\n",
    "def mostCommonColor(image):\n",
    "    img = Image.open(image)\n",
    "    img = img.resize((400,400)) \n",
    "    width,height=img.size\n",
    "    img = img.convert('RGB')\n",
    "    color_count = {}\n",
    "    #count frequency of pixels\n",
    "    for x in range(width):\n",
    "        for y in range(height):\n",
    "            rgb= img.getpixel((x,y))\n",
    "            if(rgb in color_count):\n",
    "                color_count[rgb] += 1\n",
    "            else:\n",
    "                color_count[rgb] = 1  \n",
    "    # Find the most frequent color\n",
    "    most_frequent_color = max(color_count, key=color_count.get)\n",
    "    most_frequent_count = color_count[most_frequent_color]\n",
    "    \n",
    "    print(f\"The most frequent color is: {most_frequent_color} appearing {most_frequent_count} times\")\n",
    "    \n",
    "file=\"AnalyseColor.jpeg\"\n",
    "mostCommonColor(file)"
   ]
  }
 ],
 "metadata": {
  "kernelspec": {
   "display_name": "Python 3 (ipykernel)",
   "language": "python",
   "name": "python3"
  },
  "language_info": {
   "codemirror_mode": {
    "name": "ipython",
    "version": 3
   },
   "file_extension": ".py",
   "mimetype": "text/x-python",
   "name": "python",
   "nbconvert_exporter": "python",
   "pygments_lexer": "ipython3",
   "version": "3.11.7"
  }
 },
 "nbformat": 4,
 "nbformat_minor": 5
}
